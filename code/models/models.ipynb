{
 "cells": [
  {
   "cell_type": "code",
   "execution_count": 58,
   "metadata": {},
   "outputs": [],
   "source": [
    "import numpy as np\n",
    "import pandas as pd\n",
    "import matplotlib.pyplot as plt\n",
    "\n",
    "from sklearn.metrics import confusion_matrix\n",
    "from sklearn.metrics import make_scorer\n",
    "from sklearn.model_selection import cross_val_score\n",
    "from sklearn.model_selection import train_test_split\n",
    "from sklearn.linear_model import SGDClassifier\n",
    "from sklearn.preprocessing import OneHotEncoder\n",
    "from sklearn.base import BaseEstimator, ClassifierMixin\n",
    "\n",
    "import re"
   ]
  },
  {
   "cell_type": "code",
   "execution_count": 132,
   "metadata": {},
   "outputs": [],
   "source": [
    "folderName = 'delta_ail'\n",
    "fileName = 'delta_ail_test'"
   ]
  },
  {
   "cell_type": "code",
   "execution_count": 133,
   "metadata": {},
   "outputs": [],
   "source": [
    "data = pd.read_csv(\"../datasets/{}/{}.csv\".format(folderName, fileName))\n",
    "k = 10"
   ]
  },
  {
   "cell_type": "raw",
   "metadata": {},
   "source": [
    "ind = pd.Series(data.columns[-1])\n",
    "ind = ind.append(data.columns[1:-1].to_series())\n",
    "ind = ind.append(pd.Series(data.columns[0]))\n",
    "data = data.reindex(columns=ind)\n",
    "data.to_csv(\"../datasets/{}/{}.csv\".format(folderName, fileName), index=False)"
   ]
  },
  {
   "cell_type": "code",
   "execution_count": 134,
   "metadata": {},
   "outputs": [],
   "source": [
    "y = np.array(data['Goal'] - 1)\n",
    "x = np.array(data.drop('Goal', axis=1))"
   ]
  },
  {
   "cell_type": "raw",
   "metadata": {},
   "source": [
    "ohe = OneHotEncoder()\n",
    "non_numerical = x[:, -1]\n",
    "x = np.delete(x, -1, axis=1)\n",
    "x = np.append(x, ohe.fit_transform(non_numerical.reshape(-1, 1)).toarray(), axis=1)"
   ]
  },
  {
   "cell_type": "raw",
   "metadata": {
    "jupyter": {
     "source_hidden": true
    }
   },
   "source": [
    "data['Goal'] = pd.Series([re.search('\\d+', label).group() for label in y])\n",
    "data.to_csv(\"../datasets/{}/{}.csv\".format(folderName, fileName), index=False)"
   ]
  },
  {
   "cell_type": "raw",
   "metadata": {
    "jupyter": {
     "source_hidden": true
    }
   },
   "source": [
    "x_train, x_test, y_train, y_test = train_test_split(x, y, test_size=0.3)"
   ]
  },
  {
   "cell_type": "code",
   "execution_count": 135,
   "metadata": {},
   "outputs": [],
   "source": [
    "class DCModel(BaseEstimator, ClassifierMixin):\n",
    "    \n",
    "    def __init__(self, k):\n",
    "        self.k = k\n",
    "        self.nodes = [None] * (4 * k + 1)\n",
    "        \n",
    "    def __fit_node_on_range(self, l, r, X, y):\n",
    "        ind = np.where(np.logical_and(y >= l, y <= r))\n",
    "        m = (l + r) // 2\n",
    "        x_in_range = X[ind]\n",
    "        y_in_range = np.where(y[ind] > m, 1, 0)\n",
    "        return SGDClassifier(loss='log').fit(x_in_range, y_in_range)\n",
    "        \n",
    "    def fit(self, X, y):\n",
    "        def build(v, l, r):\n",
    "            if l == r:\n",
    "                return\n",
    "            self.nodes[v] = self.__fit_node_on_range(l, r, X, y)\n",
    "            m = (l + r) // 2\n",
    "            build(2 * v, l, m)\n",
    "            build(2 * v + 1, m + 1, r)\n",
    "        build(1, 0, self.k - 1)\n",
    "        return self\n",
    "        \n",
    "    def predict(self, X):\n",
    "        def run_dc(x, v, l, r):\n",
    "            if l == r:\n",
    "                return np.full(x.shape[0], l)\n",
    "            m = (l + r) // 2\n",
    "            if(x.shape[0] == 0):\n",
    "                return np.array([])\n",
    "            pred_binary = self.nodes[v].predict(x)\n",
    "            indices_left = pred_binary == 0\n",
    "            indices_right = pred_binary == 1\n",
    "            preds_left = run_dc(x[indices_left], 2 * v, l, m)\n",
    "            preds_right = run_dc(x[indices_right], 2 * v + 1, m + 1, r)\n",
    "            pred = np.empty(x.shape[0])\n",
    "            pred[indices_left] = preds_left\n",
    "            pred[indices_right] = preds_right\n",
    "            return pred\n",
    "        return run_dc(X, 1, 0, self.k - 1)\n",
    "        "
   ]
  },
  {
   "cell_type": "code",
   "execution_count": 136,
   "metadata": {},
   "outputs": [],
   "source": [
    "class FHModel(BaseEstimator, ClassifierMixin):\n",
    "    \n",
    "    def __init__(self, k):\n",
    "        self.k = k\n",
    "        self.models = [None] * (k - 1)\n",
    "\n",
    "    def fit(self, X, y):\n",
    "        for i in range(self.k - 1):\n",
    "            y_relative = np.where(y > i, 1, 0)\n",
    "            self.models[i] = SGDClassifier(loss='log').fit(X, y_relative)\n",
    "        return self\n",
    "        \n",
    "    def predict(self, X):\n",
    "        pred = np.array([model.predict_proba(X)[:, 1] for model in self.models]).T\n",
    "        r = np.append(pred, np.zeros((X.shape[0], 1)), axis=1)\n",
    "        l = np.insert(pred, 0, np.ones(X.shape[0]), axis=1)\n",
    "        return np.argmax(l - r, axis=1)"
   ]
  },
  {
   "cell_type": "code",
   "execution_count": 137,
   "metadata": {},
   "outputs": [],
   "source": [
    "def MSE(y, y_pred):\n",
    "    conf_mat = confusion_matrix(y, y_pred)\n",
    "    m = y.shape[0]\n",
    "    diffs = [[None] * k for _ in range(k)]\n",
    "    for i in range(k):\n",
    "        for j in range(k):\n",
    "            diffs[i][j] = (i - j) ** 2\n",
    "    return 1 / m * np.sum(np.multiply(conf_mat, np.array(diffs)))\n",
    "score = make_scorer(MSE, greater_is_better=False)"
   ]
  },
  {
   "cell_type": "code",
   "execution_count": 138,
   "metadata": {},
   "outputs": [
    {
     "name": "stdout",
     "output_type": "stream",
     "text": [
      "Starting test number 0\n",
      "Starting test number 1\n",
      "Starting test number 2\n",
      "Starting test number 3\n",
      "Starting test number 4\n",
      "Starting test number 5\n",
      "Starting test number 6\n",
      "Starting test number 7\n",
      "Starting test number 8\n",
      "Starting test number 9\n",
      "4.5218090399798285 4.420866157397922 4.873901598720394\n"
     ]
    }
   ],
   "source": [
    "MSE_ovr = 0\n",
    "MSE_dc = 0\n",
    "MSE_fh = 0\n",
    "for i in range(10):\n",
    "    print('Starting test number {}'.format(i))\n",
    "    dc = DCModel(k)\n",
    "    fh = FHModel(k)\n",
    "    ovr = SGDClassifier(loss='log')\n",
    "    MSE_ovr += cross_val_score(ovr, x, y, scoring=score, cv=10).mean()\n",
    "    MSE_dc += cross_val_score(dc, x, y, scoring=score, cv=10).mean()\n",
    "    MSE_fh += cross_val_score(fh, x, y, scoring=score, cv=10).mean()\n",
    "print(-MSE_ovr / 10, -MSE_fh / 10, -MSE_dc / 10)"
   ]
  },
  {
   "cell_type": "code",
   "execution_count": null,
   "metadata": {},
   "outputs": [],
   "source": []
  }
 ],
 "metadata": {
  "kernelspec": {
   "display_name": "Python 3",
   "language": "python",
   "name": "python3"
  },
  "language_info": {
   "codemirror_mode": {
    "name": "ipython",
    "version": 3
   },
   "file_extension": ".py",
   "mimetype": "text/x-python",
   "name": "python",
   "nbconvert_exporter": "python",
   "pygments_lexer": "ipython3",
   "version": "3.8.3"
  }
 },
 "nbformat": 4,
 "nbformat_minor": 4
}
